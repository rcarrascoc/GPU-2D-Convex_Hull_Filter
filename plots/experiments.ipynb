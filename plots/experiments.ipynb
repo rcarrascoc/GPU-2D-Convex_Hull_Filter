{
 "cells": [
  {
   "cell_type": "code",
   "execution_count": null,
   "metadata": {},
   "outputs": [
    {
     "ename": "",
     "evalue": "",
     "output_type": "error",
     "traceback": [
      "\u001b[1;31mRunning cells with '/bin/python3' requires the ipykernel package.\n",
      "\u001b[1;31mRun the following command to install 'ipykernel' into the Python environment. \n",
      "\u001b[1;31mCommand: '/bin/python3 -m pip install ipykernel -U --user --force-reinstall'"
     ]
    }
   ],
   "source": [
    "archivo = \"../data/ch_normal\"  # Reemplaza \"ruta_del_archivo.txt\" con la ruta real del archivo\n",
    "\n",
    "with open(archivo, \"r\") as f:\n",
    "    lineas = f.readlines()\n",
    "\n",
    "for linea in lineas:\n",
    "    datos = linea.strip().split()\n",
    "    numero = int(datos[0])\n",
    "    valores = [float(d) for d in datos[1:]]\n",
    "\n",
    "    # Haz algo con los datos\n",
    "    print(\"Número:\", numero)\n",
    "    print(\"Valores:\", valores)\n",
    "    print(\"---\")"
   ]
  }
 ],
 "metadata": {
  "kernelspec": {
   "display_name": "Python 3",
   "language": "python",
   "name": "python3"
  },
  "language_info": {
   "name": "python",
   "version": "3.10.6"
  },
  "orig_nbformat": 4
 },
 "nbformat": 4,
 "nbformat_minor": 2
}
